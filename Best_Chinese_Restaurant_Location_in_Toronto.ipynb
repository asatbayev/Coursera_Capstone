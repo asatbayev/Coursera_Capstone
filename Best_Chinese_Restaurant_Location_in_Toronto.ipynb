{
  "nbformat": 4,
  "nbformat_minor": 0,
  "metadata": {
    "colab": {
      "name": "Best Chinese Restaurant Location in Toronto.ipynb",
      "provenance": [],
      "collapsed_sections": [],
      "authorship_tag": "ABX9TyNbzfdQARxzHR7TeTch0TZ+",
      "include_colab_link": true
    },
    "kernelspec": {
      "name": "python3",
      "display_name": "Python 3"
    },
    "language_info": {
      "name": "python"
    }
  },
  "cells": [
    {
      "cell_type": "markdown",
      "metadata": {
        "id": "view-in-github",
        "colab_type": "text"
      },
      "source": [
        "<a href=\"https://colab.research.google.com/github/asatbayev/Coursera_Capstone/blob/main/Best_Chinese_Restaurant_Location_in_Toronto.ipynb\" target=\"_parent\"><img src=\"https://colab.research.google.com/assets/colab-badge.svg\" alt=\"Open In Colab\"/></a>"
      ]
    },
    {
      "cell_type": "markdown",
      "metadata": {
        "id": "ceJrQmZA1B-S"
      },
      "source": [
        "# **Best Chinese Restaurant Location in Toronto**"
      ]
    },
    {
      "cell_type": "markdown",
      "metadata": {
        "id": "vvbY73PA1F20"
      },
      "source": [
        "## **Introduction/Business Problem**"
      ]
    },
    {
      "cell_type": "markdown",
      "metadata": {
        "id": "lDTuw2031HM0"
      },
      "source": [
        "A restaurant's location is one the most important factors for its success. So, it is critical to find the best location for opening restaurant.\n",
        "\n",
        "There is the task to establish a Chinese restaurant in a Toronto neighborhood. So the questions is - which neighborhood will be the optimal?"
      ]
    },
    {
      "cell_type": "markdown",
      "metadata": {
        "id": "i0QzSc0u1J4p"
      },
      "source": [
        "## **Data**"
      ]
    },
    {
      "cell_type": "markdown",
      "metadata": {
        "id": "6ZHqp8vL1MbP"
      },
      "source": [
        "Following data will be used for assessment of each neighborhood:\n",
        "1. Neighbourhood names, alongside their corresponding boroughs and postal codes, scraped from Wikipedia: (https://en.wikipedia.org/w/index.php?title=List_of_postal_codes_of_Canada:_M). We will obtain the list of neighborhoods of Toronto.\n",
        "2. Geographical coordinates of each neighbourhood: (https://cocl.us/Geospatial_data).\n",
        "3. The Foursquare API will be used to explore neighborhood venues in Toronto. We will check presence of Chinese restaurants in each neighborhood to check possible competition.\n",
        "4. The Toronto's census data for its social demographic characteristics will be distilled from Toronto's Neighborhood Profile (https://bit.ly/3airrOJ). We will obtain spending power and distribution of ethnic groups."
      ]
    }
  ]
}